{
 "cells": [
  {
   "cell_type": "markdown",
   "metadata": {},
   "source": [
    "# Model Fit Comparison: LMM vs GLMCopula"
   ]
  },
  {
   "cell_type": "code",
   "execution_count": 1,
   "metadata": {},
   "outputs": [
    {
     "name": "stdout",
     "output_type": "stream",
     "text": [
      "Julia Version 1.2.0\n",
      "Commit c6da87ff4b (2019-08-20 00:03 UTC)\n",
      "Platform Info:\n",
      "  OS: macOS (x86_64-apple-darwin18.6.0)\n",
      "  CPU: Intel(R) Core(TM) i7-6920HQ CPU @ 2.90GHz\n",
      "  WORD_SIZE: 64\n",
      "  LIBM: libopenlibm\n",
      "  LLVM: libLLVM-6.0.1 (ORCJIT, skylake)\n",
      "Environment:\n",
      "  JULIA_EDITOR = code\n"
     ]
    }
   ],
   "source": [
    "versioninfo()"
   ]
  },
  {
   "cell_type": "code",
   "execution_count": 2,
   "metadata": {},
   "outputs": [
    {
     "name": "stderr",
     "output_type": "stream",
     "text": [
      "┌ Info: Recompiling stale cache file /Users/huazhou/.julia/compiled/v1.2/GLMCopula/1swgR.ji for GLMCopula [e1188d9a-b146-567e-aa2b-a46eb542ab6f]\n",
      "└ @ Base loading.jl:1240\n",
      "┌ Info: Recompiling stale cache file /Users/huazhou/.julia/compiled/v1.2/MixedModels/tBiYK.ji for MixedModels [ff71e718-51f3-5ec2-a782-8ffcbfa3c316]\n",
      "└ @ Base loading.jl:1240\n"
     ]
    }
   ],
   "source": [
    "using GLMCopula, RData, MixedModels\n",
    "using LinearAlgebra, Random"
   ]
  },
  {
   "cell_type": "markdown",
   "metadata": {},
   "source": [
    "## Dyestuff Data\n",
    "\n",
    "This is a random intercept model `Y ~ 1 + (1|G)` for a data set in R. The fitted model by the [MixedModels.jl package](https://dmbates.github.io/MixedModels.jl/stable/constructors/#Models-with-simple,-scalar-random-effects-1) yields a loglikelihood of **-163.66353**. We will see the copula model has a slightly better fit with loglikelihood **-163.35545**."
   ]
  },
  {
   "cell_type": "code",
   "execution_count": 3,
   "metadata": {},
   "outputs": [
    {
     "data": {
      "text/html": [
       "<table class=\"data-frame\"><thead><tr><th></th><th>G</th><th>Y</th></tr><tr><th></th><th>Categorical…</th><th>Float64</th></tr></thead><tbody><p>30 rows × 2 columns</p><tr><th>1</th><td>A</td><td>1545.0</td></tr><tr><th>2</th><td>A</td><td>1440.0</td></tr><tr><th>3</th><td>A</td><td>1440.0</td></tr><tr><th>4</th><td>A</td><td>1520.0</td></tr><tr><th>5</th><td>A</td><td>1580.0</td></tr><tr><th>6</th><td>B</td><td>1540.0</td></tr><tr><th>7</th><td>B</td><td>1555.0</td></tr><tr><th>8</th><td>B</td><td>1490.0</td></tr><tr><th>9</th><td>B</td><td>1560.0</td></tr><tr><th>10</th><td>B</td><td>1495.0</td></tr><tr><th>11</th><td>C</td><td>1595.0</td></tr><tr><th>12</th><td>C</td><td>1550.0</td></tr><tr><th>13</th><td>C</td><td>1605.0</td></tr><tr><th>14</th><td>C</td><td>1510.0</td></tr><tr><th>15</th><td>C</td><td>1560.0</td></tr><tr><th>16</th><td>D</td><td>1445.0</td></tr><tr><th>17</th><td>D</td><td>1440.0</td></tr><tr><th>18</th><td>D</td><td>1595.0</td></tr><tr><th>19</th><td>D</td><td>1465.0</td></tr><tr><th>20</th><td>D</td><td>1545.0</td></tr><tr><th>21</th><td>E</td><td>1595.0</td></tr><tr><th>22</th><td>E</td><td>1630.0</td></tr><tr><th>23</th><td>E</td><td>1515.0</td></tr><tr><th>24</th><td>E</td><td>1635.0</td></tr><tr><th>25</th><td>E</td><td>1625.0</td></tr><tr><th>26</th><td>F</td><td>1520.0</td></tr><tr><th>27</th><td>F</td><td>1455.0</td></tr><tr><th>28</th><td>F</td><td>1450.0</td></tr><tr><th>29</th><td>F</td><td>1480.0</td></tr><tr><th>30</th><td>F</td><td>1445.0</td></tr></tbody></table>"
      ],
      "text/latex": [
       "\\begin{tabular}{r|cc}\n",
       "\t& G & Y\\\\\n",
       "\t\\hline\n",
       "\t& Categorical… & Float64\\\\\n",
       "\t\\hline\n",
       "\t1 & A & 1545.0 \\\\\n",
       "\t2 & A & 1440.0 \\\\\n",
       "\t3 & A & 1440.0 \\\\\n",
       "\t4 & A & 1520.0 \\\\\n",
       "\t5 & A & 1580.0 \\\\\n",
       "\t6 & B & 1540.0 \\\\\n",
       "\t7 & B & 1555.0 \\\\\n",
       "\t8 & B & 1490.0 \\\\\n",
       "\t9 & B & 1560.0 \\\\\n",
       "\t10 & B & 1495.0 \\\\\n",
       "\t11 & C & 1595.0 \\\\\n",
       "\t12 & C & 1550.0 \\\\\n",
       "\t13 & C & 1605.0 \\\\\n",
       "\t14 & C & 1510.0 \\\\\n",
       "\t15 & C & 1560.0 \\\\\n",
       "\t16 & D & 1445.0 \\\\\n",
       "\t17 & D & 1440.0 \\\\\n",
       "\t18 & D & 1595.0 \\\\\n",
       "\t19 & D & 1465.0 \\\\\n",
       "\t20 & D & 1545.0 \\\\\n",
       "\t21 & E & 1595.0 \\\\\n",
       "\t22 & E & 1630.0 \\\\\n",
       "\t23 & E & 1515.0 \\\\\n",
       "\t24 & E & 1635.0 \\\\\n",
       "\t25 & E & 1625.0 \\\\\n",
       "\t26 & F & 1520.0 \\\\\n",
       "\t27 & F & 1455.0 \\\\\n",
       "\t28 & F & 1450.0 \\\\\n",
       "\t29 & F & 1480.0 \\\\\n",
       "\t30 & F & 1445.0 \\\\\n",
       "\\end{tabular}\n"
      ],
      "text/plain": [
       "30×2 DataFrames.DataFrame\n",
       "│ Row │ G            │ Y       │\n",
       "│     │ \u001b[90mCategorical…\u001b[39m │ \u001b[90mFloat64\u001b[39m │\n",
       "├─────┼──────────────┼─────────┤\n",
       "│ 1   │ A            │ 1545.0  │\n",
       "│ 2   │ A            │ 1440.0  │\n",
       "│ 3   │ A            │ 1440.0  │\n",
       "│ 4   │ A            │ 1520.0  │\n",
       "│ 5   │ A            │ 1580.0  │\n",
       "│ 6   │ B            │ 1540.0  │\n",
       "│ 7   │ B            │ 1555.0  │\n",
       "│ 8   │ B            │ 1490.0  │\n",
       "│ 9   │ B            │ 1560.0  │\n",
       "│ 10  │ B            │ 1495.0  │\n",
       "⋮\n",
       "│ 20  │ D            │ 1545.0  │\n",
       "│ 21  │ E            │ 1595.0  │\n",
       "│ 22  │ E            │ 1630.0  │\n",
       "│ 23  │ E            │ 1515.0  │\n",
       "│ 24  │ E            │ 1635.0  │\n",
       "│ 25  │ E            │ 1625.0  │\n",
       "│ 26  │ F            │ 1520.0  │\n",
       "│ 27  │ F            │ 1455.0  │\n",
       "│ 28  │ F            │ 1450.0  │\n",
       "│ 29  │ F            │ 1480.0  │\n",
       "│ 30  │ F            │ 1445.0  │"
      ]
     },
     "execution_count": 3,
     "metadata": {},
     "output_type": "execute_result"
    }
   ],
   "source": [
    "dat = Dict(Symbol(k)=>v for (k,v) in \n",
    "    load(joinpath(dirname(pathof(MixedModels)), \"..\", \"test\", \"dat.rda\")))\n",
    "dyestuff = dat[:Dyestuff]"
   ]
  },
  {
   "cell_type": "code",
   "execution_count": 4,
   "metadata": {},
   "outputs": [],
   "source": [
    "groups = unique(dyestuff[!, :G])\n",
    "n, p, m = length(groups), 1, 1\n",
    "gcs = Vector{GaussianCopulaVCObs{Float64}}(undef, n)\n",
    "for (i, grp) in enumerate(groups)\n",
    "    gidx = dyestuff[!, :G] .== grp\n",
    "    ni = count(gidx)\n",
    "    y = dyestuff[gidx, :Y]\n",
    "    X = ones(ni, 1)\n",
    "    V = [ones(ni, ni)]\n",
    "    gcs[i] = GaussianCopulaVCObs(y, X, V)\n",
    "end\n",
    "gcm = GaussianCopulaVCModel(gcs);"
   ]
  },
  {
   "cell_type": "code",
   "execution_count": 5,
   "metadata": {},
   "outputs": [
    {
     "name": "stdout",
     "output_type": "stream",
     "text": [
      "gcm.β = [1527.4999999999998]\n",
      "gcm.τ = [0.0002604449267498643]\n",
      "gcm.Σ = [0.8636149140056555]\n"
     ]
    }
   ],
   "source": [
    "# initialize β and τ from least square solution\n",
    "init_β!(gcm)\n",
    "@show gcm.β\n",
    "# update σ2 and τ from β using MM algorithm\n",
    "@show gcm.τ\n",
    "fill!(gcm.Σ, 1)\n",
    "update_Σ!(gcm)\n",
    "@show gcm.Σ;"
   ]
  },
  {
   "cell_type": "code",
   "execution_count": 6,
   "metadata": {},
   "outputs": [
    {
     "name": "stdout",
     "output_type": "stream",
     "text": [
      "loglikelihood!(gcm, true, false) = -164.00082379403617\n",
      "gcm.∇β = [0.06561148856048625]\n",
      "gcm.∇τ = [-0.004475727521338513]\n",
      "gcm.∇Σ = [-8.467730615246971e-6]\n"
     ]
    }
   ],
   "source": [
    "@show loglikelihood!(gcm, true, false)\n",
    "@show gcm.∇β\n",
    "@show gcm.∇τ\n",
    "@show gcm.∇Σ;"
   ]
  },
  {
   "cell_type": "code",
   "execution_count": 7,
   "metadata": {},
   "outputs": [
    {
     "name": "stdout",
     "output_type": "stream",
     "text": [
      "\n",
      "******************************************************************************\n",
      "This program contains Ipopt, a library for large-scale nonlinear optimization.\n",
      " Ipopt is released as open source code under the Eclipse Public License (EPL).\n",
      "         For more information visit http://projects.coin-or.org/Ipopt\n",
      "******************************************************************************\n",
      "\n",
      "This is Ipopt version 3.12.10, running with linear solver mumps.\n",
      "NOTE: Other linear solvers might be more efficient (see Ipopt documentation).\n",
      "\n",
      "Number of nonzeros in equality constraint Jacobian...:        0\n",
      "Number of nonzeros in inequality constraint Jacobian.:        0\n",
      "Number of nonzeros in Lagrangian Hessian.............:        0\n",
      "\n",
      "Total number of variables............................:        1\n",
      "                     variables with only lower bounds:        0\n",
      "                variables with lower and upper bounds:        0\n",
      "                     variables with only upper bounds:        0\n",
      "Total number of equality constraints.................:        0\n",
      "Total number of inequality constraints...............:        0\n",
      "        inequality constraints with only lower bounds:        0\n",
      "   inequality constraints with lower and upper bounds:        0\n",
      "        inequality constraints with only upper bounds:        0\n",
      "\n",
      "iter    objective    inf_pr   inf_du lg(mu)  ||d||  lg(rg) alpha_du alpha_pr  ls\n",
      "   0  1.6400082e+02 0.00e+00 6.56e-02   0.0 0.00e+00    -  0.00e+00 0.00e+00   0\n",
      "   1  1.6399653e+02 0.00e+00 6.53e-02 -11.0 6.56e-02    -  1.00e+00 1.00e+00f  1\n",
      "   2  1.6338341e+02 0.00e+00 4.00e-02 -11.0 1.28e+01    -  1.00e+00 1.00e+00f  1\n",
      "   3  1.6337286e+02 0.00e+00 3.03e-02 -11.0 2.03e+01    -  1.00e+00 1.25e-01f  4\n",
      "   4  1.6335549e+02 0.00e+00 1.15e-03 -11.0 1.10e+00    -  1.00e+00 1.00e+00f  1\n",
      "   5  1.6335546e+02 0.00e+00 3.43e-05 -11.0 4.31e-02    -  1.00e+00 1.00e+00f  1\n",
      "   6  1.6335546e+02 0.00e+00 9.99e-07 -11.0 1.25e-03    -  1.00e+00 1.00e+00f  1\n",
      "   7  1.6335546e+02 0.00e+00 6.62e-07 -11.0 3.75e-05    -  1.00e+00 1.00e+00f  1\n",
      "   8  1.6335546e+02 0.00e+00 8.51e-07 -11.0 7.38e-05    -  1.00e+00 1.00e+00f  1\n",
      "   9  1.6335546e+02 0.00e+00 6.77e-07 -11.0 4.15e-05    -  1.00e+00 1.00e+00f  1\n",
      "iter    objective    inf_pr   inf_du lg(mu)  ||d||  lg(rg) alpha_du alpha_pr  ls\n",
      "  10  1.6335545e+02 0.00e+00 4.83e-07 -11.0 1.84e-05    -  1.00e+00 1.00e+00f  1\n",
      "  11  1.6335545e+02 0.00e+00 6.58e-07 -11.0 4.56e-05    -  1.00e+00 1.00e+00f  1\n",
      "  12  1.6335545e+02 0.00e+00 6.29e-08 -11.0 2.63e-05    -  1.00e+00 1.00e+00f  1\n",
      "  13  1.6335545e+02 0.00e+00 5.50e-12 -11.0 2.29e-06    -  1.00e+00 1.00e+00f  1\n",
      "\n",
      "Number of Iterations....: 13\n",
      "\n",
      "                                   (scaled)                 (unscaled)\n",
      "Objective...............:   1.6335545423302449e+02    1.6335545423302449e+02\n",
      "Dual infeasibility......:   5.4985876962732050e-12    5.4985876962732050e-12\n",
      "Constraint violation....:   0.0000000000000000e+00    0.0000000000000000e+00\n",
      "Complementarity.........:   0.0000000000000000e+00    0.0000000000000000e+00\n",
      "Overall NLP error.......:   5.4985876962732050e-12    5.4985876962732050e-12\n",
      "\n",
      "\n",
      "Number of objective function evaluations             = 21\n",
      "Number of objective gradient evaluations             = 14\n",
      "Number of equality constraint evaluations            = 0\n",
      "Number of inequality constraint evaluations          = 0\n",
      "Number of equality constraint Jacobian evaluations   = 0\n",
      "Number of inequality constraint Jacobian evaluations = 0\n",
      "Number of Lagrangian Hessian evaluations             = 0\n",
      "Total CPU secs in IPOPT (w/o function evaluations)   =      0.041\n",
      "Total CPU secs in NLP function evaluations           =      0.331\n",
      "\n",
      "EXIT: Optimal Solution Found.\n",
      "  0.904669 seconds (715.80 k allocations: 37.043 MiB, 2.43% gc time)\n",
      "gcm.β = [1541.7935063882273]\n",
      "gcm.τ = [0.00034620084628342584]\n",
      "gcm.Σ = [52109.225316687734]\n"
     ]
    }
   ],
   "source": [
    "# @time GLMCopula.fit!(gcm, NLopt.NLoptSolver(algorithm=:LD_SLSQP, maxeval=4000))\n",
    "@time GLMCopula.fit!(gcm, IpoptSolver(print_level=5))\n",
    "@show gcm.β\n",
    "@show gcm.τ\n",
    "@show gcm.Σ;"
   ]
  },
  {
   "cell_type": "code",
   "execution_count": 8,
   "metadata": {},
   "outputs": [
    {
     "name": "stdout",
     "output_type": "stream",
     "text": [
      "loglikelihood!(gcm, true, false) = -163.35545423301846\n",
      "gcm.∇β = [5.498587696273205e-12]\n",
      "gcm.∇τ = [1.1571319191716611e-7]\n",
      "gcm.∇Σ = [1.1514215103220512e-10]\n"
     ]
    }
   ],
   "source": [
    "@show loglikelihood!(gcm, true, false)\n",
    "@show gcm.∇β\n",
    "@show gcm.∇τ\n",
    "@show gcm.∇Σ;"
   ]
  },
  {
   "cell_type": "markdown",
   "metadata": {},
   "source": [
    "## Dyestuff2 data\n",
    "\n",
    "`Dyestuff2` is a data set simulated from LMM. [The fitted model by MixedModels.jl package](https://github.com/dmbates/MixedModelsinJulia/blob/master/SimpleLMM.ipynb) has a log-likelihood of **-81.436518**, while copula model yields **-81.436519**."
   ]
  },
  {
   "cell_type": "code",
   "execution_count": 9,
   "metadata": {},
   "outputs": [
    {
     "data": {
      "text/html": [
       "<table class=\"data-frame\"><thead><tr><th></th><th>G</th><th>Y</th></tr><tr><th></th><th>Categorical…</th><th>Float64</th></tr></thead><tbody><p>30 rows × 2 columns</p><tr><th>1</th><td>A</td><td>7.298</td></tr><tr><th>2</th><td>A</td><td>3.846</td></tr><tr><th>3</th><td>A</td><td>2.434</td></tr><tr><th>4</th><td>A</td><td>9.566</td></tr><tr><th>5</th><td>A</td><td>7.99</td></tr><tr><th>6</th><td>B</td><td>5.22</td></tr><tr><th>7</th><td>B</td><td>6.556</td></tr><tr><th>8</th><td>B</td><td>0.608</td></tr><tr><th>9</th><td>B</td><td>11.788</td></tr><tr><th>10</th><td>B</td><td>-0.892</td></tr><tr><th>11</th><td>C</td><td>0.11</td></tr><tr><th>12</th><td>C</td><td>10.386</td></tr><tr><th>13</th><td>C</td><td>13.434</td></tr><tr><th>14</th><td>C</td><td>5.51</td></tr><tr><th>15</th><td>C</td><td>8.166</td></tr><tr><th>16</th><td>D</td><td>2.212</td></tr><tr><th>17</th><td>D</td><td>4.852</td></tr><tr><th>18</th><td>D</td><td>7.092</td></tr><tr><th>19</th><td>D</td><td>9.288</td></tr><tr><th>20</th><td>D</td><td>4.98</td></tr><tr><th>21</th><td>E</td><td>0.282</td></tr><tr><th>22</th><td>E</td><td>9.014</td></tr><tr><th>23</th><td>E</td><td>4.458</td></tr><tr><th>24</th><td>E</td><td>9.446</td></tr><tr><th>25</th><td>E</td><td>7.198</td></tr><tr><th>26</th><td>F</td><td>1.722</td></tr><tr><th>27</th><td>F</td><td>4.782</td></tr><tr><th>28</th><td>F</td><td>8.106</td></tr><tr><th>29</th><td>F</td><td>0.758</td></tr><tr><th>30</th><td>F</td><td>3.758</td></tr></tbody></table>"
      ],
      "text/latex": [
       "\\begin{tabular}{r|cc}\n",
       "\t& G & Y\\\\\n",
       "\t\\hline\n",
       "\t& Categorical… & Float64\\\\\n",
       "\t\\hline\n",
       "\t1 & A & 7.298 \\\\\n",
       "\t2 & A & 3.846 \\\\\n",
       "\t3 & A & 2.434 \\\\\n",
       "\t4 & A & 9.566 \\\\\n",
       "\t5 & A & 7.99 \\\\\n",
       "\t6 & B & 5.22 \\\\\n",
       "\t7 & B & 6.556 \\\\\n",
       "\t8 & B & 0.608 \\\\\n",
       "\t9 & B & 11.788 \\\\\n",
       "\t10 & B & -0.892 \\\\\n",
       "\t11 & C & 0.11 \\\\\n",
       "\t12 & C & 10.386 \\\\\n",
       "\t13 & C & 13.434 \\\\\n",
       "\t14 & C & 5.51 \\\\\n",
       "\t15 & C & 8.166 \\\\\n",
       "\t16 & D & 2.212 \\\\\n",
       "\t17 & D & 4.852 \\\\\n",
       "\t18 & D & 7.092 \\\\\n",
       "\t19 & D & 9.288 \\\\\n",
       "\t20 & D & 4.98 \\\\\n",
       "\t21 & E & 0.282 \\\\\n",
       "\t22 & E & 9.014 \\\\\n",
       "\t23 & E & 4.458 \\\\\n",
       "\t24 & E & 9.446 \\\\\n",
       "\t25 & E & 7.198 \\\\\n",
       "\t26 & F & 1.722 \\\\\n",
       "\t27 & F & 4.782 \\\\\n",
       "\t28 & F & 8.106 \\\\\n",
       "\t29 & F & 0.758 \\\\\n",
       "\t30 & F & 3.758 \\\\\n",
       "\\end{tabular}\n"
      ],
      "text/plain": [
       "30×2 DataFrames.DataFrame\n",
       "│ Row │ G            │ Y       │\n",
       "│     │ \u001b[90mCategorical…\u001b[39m │ \u001b[90mFloat64\u001b[39m │\n",
       "├─────┼──────────────┼─────────┤\n",
       "│ 1   │ A            │ 7.298   │\n",
       "│ 2   │ A            │ 3.846   │\n",
       "│ 3   │ A            │ 2.434   │\n",
       "│ 4   │ A            │ 9.566   │\n",
       "│ 5   │ A            │ 7.99    │\n",
       "│ 6   │ B            │ 5.22    │\n",
       "│ 7   │ B            │ 6.556   │\n",
       "│ 8   │ B            │ 0.608   │\n",
       "│ 9   │ B            │ 11.788  │\n",
       "│ 10  │ B            │ -0.892  │\n",
       "⋮\n",
       "│ 20  │ D            │ 4.98    │\n",
       "│ 21  │ E            │ 0.282   │\n",
       "│ 22  │ E            │ 9.014   │\n",
       "│ 23  │ E            │ 4.458   │\n",
       "│ 24  │ E            │ 9.446   │\n",
       "│ 25  │ E            │ 7.198   │\n",
       "│ 26  │ F            │ 1.722   │\n",
       "│ 27  │ F            │ 4.782   │\n",
       "│ 28  │ F            │ 8.106   │\n",
       "│ 29  │ F            │ 0.758   │\n",
       "│ 30  │ F            │ 3.758   │"
      ]
     },
     "execution_count": 9,
     "metadata": {},
     "output_type": "execute_result"
    }
   ],
   "source": [
    "dyestuff2 = dat[:Dyestuff2]"
   ]
  },
  {
   "cell_type": "code",
   "execution_count": 10,
   "metadata": {},
   "outputs": [],
   "source": [
    "groups = unique(dyestuff2[!, :G])\n",
    "n, p, m = length(groups), 1, 1\n",
    "gcs = Vector{GaussianCopulaVCObs{Float64}}(undef, n)\n",
    "for (i, grp) in enumerate(groups)\n",
    "    gidx = dyestuff2[!, :G] .== grp\n",
    "    ni = count(gidx)\n",
    "    y = dyestuff2[gidx, :Y]\n",
    "    X = ones(ni, 1)\n",
    "    V = [ones(ni, ni)]\n",
    "    gcs[i] = GaussianCopulaVCObs(y, X, V)\n",
    "end\n",
    "gcm = GaussianCopulaVCModel(gcs);"
   ]
  },
  {
   "cell_type": "code",
   "execution_count": 11,
   "metadata": {},
   "outputs": [
    {
     "name": "stdout",
     "output_type": "stream",
     "text": [
      "gcm.β = [5.6655999999999995]\n",
      "gcm.τ = [0.07492826008723599]\n",
      "gcm.Σ = [8.002522079028351e-7]\n"
     ]
    }
   ],
   "source": [
    "# initialize β and τ from least square solution\n",
    "init_β!(gcm)\n",
    "@show gcm.β\n",
    "@show gcm.τ\n",
    "# update σ2 and τ from β using MM algorithm\n",
    "fill!(gcm.Σ, 1)\n",
    "update_Σ!(gcm)\n",
    "@show gcm.Σ;"
   ]
  },
  {
   "cell_type": "code",
   "execution_count": 12,
   "metadata": {},
   "outputs": [
    {
     "name": "stdout",
     "output_type": "stream",
     "text": [
      "loglikelihood!(gcm, true, false) = -81.43652408245762\n",
      "gcm.∇β = [-7.017719738655614e-13]\n",
      "gcm.∇τ = [-7.681370063394866e-5]\n",
      "gcm.∇Σ = [-7.192151129476404]\n"
     ]
    }
   ],
   "source": [
    "@show loglikelihood!(gcm, true, false)\n",
    "@show gcm.∇β\n",
    "@show gcm.∇τ\n",
    "@show gcm.∇Σ;"
   ]
  },
  {
   "cell_type": "code",
   "execution_count": 13,
   "metadata": {},
   "outputs": [
    {
     "name": "stdout",
     "output_type": "stream",
     "text": [
      "This is Ipopt version 3.12.10, running with linear solver mumps.\n",
      "NOTE: Other linear solvers might be more efficient (see Ipopt documentation).\n",
      "\n",
      "Number of nonzeros in equality constraint Jacobian...:        0\n",
      "Number of nonzeros in inequality constraint Jacobian.:        0\n",
      "Number of nonzeros in Lagrangian Hessian.............:        0\n",
      "\n",
      "Total number of variables............................:        1\n",
      "                     variables with only lower bounds:        0\n",
      "                variables with lower and upper bounds:        0\n",
      "                     variables with only upper bounds:        0\n",
      "Total number of equality constraints.................:        0\n",
      "Total number of inequality constraints...............:        0\n",
      "        inequality constraints with only lower bounds:        0\n",
      "   inequality constraints with lower and upper bounds:        0\n",
      "        inequality constraints with only upper bounds:        0\n",
      "\n",
      "iter    objective    inf_pr   inf_du lg(mu)  ||d||  lg(rg) alpha_du alpha_pr  ls\n",
      "   0  8.1436519e+01 0.00e+00 5.05e-14   0.0 0.00e+00    -  0.00e+00 0.00e+00   0\n",
      "\n",
      "Number of Iterations....: 0\n",
      "\n",
      "                                   (scaled)                 (unscaled)\n",
      "Objective...............:   8.1436519138629038e+01    8.1436519138629038e+01\n",
      "Dual infeasibility......:   5.0515147620444623e-14    5.0515147620444623e-14\n",
      "Constraint violation....:   0.0000000000000000e+00    0.0000000000000000e+00\n",
      "Complementarity.........:   0.0000000000000000e+00    0.0000000000000000e+00\n",
      "Overall NLP error.......:   5.0515147620444623e-14    5.0515147620444623e-14\n",
      "\n",
      "\n",
      "Number of objective function evaluations             = 1\n",
      "Number of objective gradient evaluations             = 1\n",
      "Number of equality constraint evaluations            = 0\n",
      "Number of inequality constraint evaluations          = 0\n",
      "Number of equality constraint Jacobian evaluations   = 0\n",
      "Number of inequality constraint Jacobian evaluations = 0\n",
      "Number of Lagrangian Hessian evaluations             = 0\n",
      "Total CPU secs in IPOPT (w/o function evaluations)   =      0.000\n",
      "Total CPU secs in NLP function evaluations           =      0.000\n",
      "\n",
      "EXIT: Optimal Solution Found.\n",
      "  0.001309 seconds (74 allocations: 4.375 KiB)\n",
      "gcm.β = [5.6655999999999995]\n",
      "gcm.τ = [0.07492826854371827]\n",
      "gcm.Σ = [1.1286110178501942e-7]\n"
     ]
    }
   ],
   "source": [
    "@time GLMCopula.fit!(gcm, IpoptSolver(print_level=5))\n",
    "@show gcm.β\n",
    "@show gcm.τ\n",
    "@show gcm.Σ;"
   ]
  },
  {
   "cell_type": "code",
   "execution_count": 14,
   "metadata": {},
   "outputs": [
    {
     "name": "stdout",
     "output_type": "stream",
     "text": [
      "loglikelihood!(gcm, true, false) = -81.43651913862904\n",
      "gcm.∇β = [-1.2878587085651816e-14]\n",
      "gcm.∇τ = [-1.0833236917306976e-5]\n",
      "gcm.∇Σ = [-7.192167502739009]\n"
     ]
    }
   ],
   "source": [
    "@show loglikelihood!(gcm, true, false)\n",
    "@show gcm.∇β\n",
    "@show gcm.∇τ\n",
    "@show gcm.∇Σ;"
   ]
  },
  {
   "cell_type": "markdown",
   "metadata": {},
   "source": [
    "## Sleepstudy Data\n",
    "\n",
    "Sleepstudy data has random intercept and slope within each group (individual) `Y ~ 1 + U + (1+U|G)`. The LMM model fit by [MixedModels.jl package](https://dmbates.github.io/MixedModels.jl/stable/constructors/#Models-with-vector-valued-random-effects-1) has a loglikelihood **-875.96967**."
   ]
  },
  {
   "cell_type": "code",
   "execution_count": 15,
   "metadata": {},
   "outputs": [
    {
     "data": {
      "text/html": [
       "<table class=\"data-frame\"><thead><tr><th></th><th>Y</th><th>U</th><th>G</th></tr><tr><th></th><th>Float64</th><th>Float64</th><th>Categorical…</th></tr></thead><tbody><p>180 rows × 3 columns</p><tr><th>1</th><td>249.56</td><td>0.0</td><td>308</td></tr><tr><th>2</th><td>258.705</td><td>1.0</td><td>308</td></tr><tr><th>3</th><td>250.801</td><td>2.0</td><td>308</td></tr><tr><th>4</th><td>321.44</td><td>3.0</td><td>308</td></tr><tr><th>5</th><td>356.852</td><td>4.0</td><td>308</td></tr><tr><th>6</th><td>414.69</td><td>5.0</td><td>308</td></tr><tr><th>7</th><td>382.204</td><td>6.0</td><td>308</td></tr><tr><th>8</th><td>290.149</td><td>7.0</td><td>308</td></tr><tr><th>9</th><td>430.585</td><td>8.0</td><td>308</td></tr><tr><th>10</th><td>466.353</td><td>9.0</td><td>308</td></tr><tr><th>11</th><td>222.734</td><td>0.0</td><td>309</td></tr><tr><th>12</th><td>205.266</td><td>1.0</td><td>309</td></tr><tr><th>13</th><td>202.978</td><td>2.0</td><td>309</td></tr><tr><th>14</th><td>204.707</td><td>3.0</td><td>309</td></tr><tr><th>15</th><td>207.716</td><td>4.0</td><td>309</td></tr><tr><th>16</th><td>215.962</td><td>5.0</td><td>309</td></tr><tr><th>17</th><td>213.63</td><td>6.0</td><td>309</td></tr><tr><th>18</th><td>217.727</td><td>7.0</td><td>309</td></tr><tr><th>19</th><td>224.296</td><td>8.0</td><td>309</td></tr><tr><th>20</th><td>237.314</td><td>9.0</td><td>309</td></tr><tr><th>21</th><td>199.054</td><td>0.0</td><td>310</td></tr><tr><th>22</th><td>194.332</td><td>1.0</td><td>310</td></tr><tr><th>23</th><td>234.32</td><td>2.0</td><td>310</td></tr><tr><th>24</th><td>232.842</td><td>3.0</td><td>310</td></tr><tr><th>25</th><td>229.307</td><td>4.0</td><td>310</td></tr><tr><th>26</th><td>220.458</td><td>5.0</td><td>310</td></tr><tr><th>27</th><td>235.421</td><td>6.0</td><td>310</td></tr><tr><th>28</th><td>255.751</td><td>7.0</td><td>310</td></tr><tr><th>29</th><td>261.012</td><td>8.0</td><td>310</td></tr><tr><th>30</th><td>247.515</td><td>9.0</td><td>310</td></tr><tr><th>&vellip;</th><td>&vellip;</td><td>&vellip;</td><td>&vellip;</td></tr></tbody></table>"
      ],
      "text/latex": [
       "\\begin{tabular}{r|ccc}\n",
       "\t& Y & U & G\\\\\n",
       "\t\\hline\n",
       "\t& Float64 & Float64 & Categorical…\\\\\n",
       "\t\\hline\n",
       "\t1 & 249.56 & 0.0 & 308 \\\\\n",
       "\t2 & 258.705 & 1.0 & 308 \\\\\n",
       "\t3 & 250.801 & 2.0 & 308 \\\\\n",
       "\t4 & 321.44 & 3.0 & 308 \\\\\n",
       "\t5 & 356.852 & 4.0 & 308 \\\\\n",
       "\t6 & 414.69 & 5.0 & 308 \\\\\n",
       "\t7 & 382.204 & 6.0 & 308 \\\\\n",
       "\t8 & 290.149 & 7.0 & 308 \\\\\n",
       "\t9 & 430.585 & 8.0 & 308 \\\\\n",
       "\t10 & 466.353 & 9.0 & 308 \\\\\n",
       "\t11 & 222.734 & 0.0 & 309 \\\\\n",
       "\t12 & 205.266 & 1.0 & 309 \\\\\n",
       "\t13 & 202.978 & 2.0 & 309 \\\\\n",
       "\t14 & 204.707 & 3.0 & 309 \\\\\n",
       "\t15 & 207.716 & 4.0 & 309 \\\\\n",
       "\t16 & 215.962 & 5.0 & 309 \\\\\n",
       "\t17 & 213.63 & 6.0 & 309 \\\\\n",
       "\t18 & 217.727 & 7.0 & 309 \\\\\n",
       "\t19 & 224.296 & 8.0 & 309 \\\\\n",
       "\t20 & 237.314 & 9.0 & 309 \\\\\n",
       "\t21 & 199.054 & 0.0 & 310 \\\\\n",
       "\t22 & 194.332 & 1.0 & 310 \\\\\n",
       "\t23 & 234.32 & 2.0 & 310 \\\\\n",
       "\t24 & 232.842 & 3.0 & 310 \\\\\n",
       "\t25 & 229.307 & 4.0 & 310 \\\\\n",
       "\t26 & 220.458 & 5.0 & 310 \\\\\n",
       "\t27 & 235.421 & 6.0 & 310 \\\\\n",
       "\t28 & 255.751 & 7.0 & 310 \\\\\n",
       "\t29 & 261.012 & 8.0 & 310 \\\\\n",
       "\t30 & 247.515 & 9.0 & 310 \\\\\n",
       "\t$\\dots$ & $\\dots$ & $\\dots$ & $\\dots$ \\\\\n",
       "\\end{tabular}\n"
      ],
      "text/plain": [
       "180×3 DataFrames.DataFrame\n",
       "│ Row │ Y       │ U       │ G            │\n",
       "│     │ \u001b[90mFloat64\u001b[39m │ \u001b[90mFloat64\u001b[39m │ \u001b[90mCategorical…\u001b[39m │\n",
       "├─────┼─────────┼─────────┼──────────────┤\n",
       "│ 1   │ 249.56  │ 0.0     │ 308          │\n",
       "│ 2   │ 258.705 │ 1.0     │ 308          │\n",
       "│ 3   │ 250.801 │ 2.0     │ 308          │\n",
       "│ 4   │ 321.44  │ 3.0     │ 308          │\n",
       "│ 5   │ 356.852 │ 4.0     │ 308          │\n",
       "│ 6   │ 414.69  │ 5.0     │ 308          │\n",
       "│ 7   │ 382.204 │ 6.0     │ 308          │\n",
       "│ 8   │ 290.149 │ 7.0     │ 308          │\n",
       "│ 9   │ 430.585 │ 8.0     │ 308          │\n",
       "│ 10  │ 466.353 │ 9.0     │ 308          │\n",
       "⋮\n",
       "│ 170 │ 369.469 │ 9.0     │ 371          │\n",
       "│ 171 │ 269.412 │ 0.0     │ 372          │\n",
       "│ 172 │ 273.474 │ 1.0     │ 372          │\n",
       "│ 173 │ 297.597 │ 2.0     │ 372          │\n",
       "│ 174 │ 310.632 │ 3.0     │ 372          │\n",
       "│ 175 │ 287.173 │ 4.0     │ 372          │\n",
       "│ 176 │ 329.608 │ 5.0     │ 372          │\n",
       "│ 177 │ 334.482 │ 6.0     │ 372          │\n",
       "│ 178 │ 343.22  │ 7.0     │ 372          │\n",
       "│ 179 │ 369.142 │ 8.0     │ 372          │\n",
       "│ 180 │ 364.124 │ 9.0     │ 372          │"
      ]
     },
     "execution_count": 15,
     "metadata": {},
     "output_type": "execute_result"
    }
   ],
   "source": [
    "sleepstudy = dat[:sleepstudy]"
   ]
  },
  {
   "cell_type": "code",
   "execution_count": 16,
   "metadata": {},
   "outputs": [],
   "source": [
    "groups = unique(sleepstudy[!, :G])\n",
    "n, p, m = length(groups), 2, 2\n",
    "gcs = Vector{GaussianCopulaLMMObs{Float64}}(undef, n)\n",
    "for (i, grp) in enumerate(groups)\n",
    "    gidx = sleepstudy[!, :G] .== grp\n",
    "    ni = count(gidx)\n",
    "    yi = Float64.(sleepstudy[gidx, :Y])\n",
    "    Ui = Float64.(sleepstudy[gidx, :U])\n",
    "    Xi = [ones(ni, 1) Ui]\n",
    "    gcs[i] = GaussianCopulaLMMObs(yi, Xi, Xi)\n",
    "end\n",
    "gcm = GaussianCopulaLMMModel(gcs);"
   ]
  },
  {
   "cell_type": "code",
   "execution_count": 17,
   "metadata": {},
   "outputs": [
    {
     "name": "stdout",
     "output_type": "stream",
     "text": [
      "gcm.β = [251.40510484848488, 10.46728595959596]\n",
      "gcm.τ[1] = 0.0004441684924519196\n",
      "gcm.Σ = [1.0 0.0; 0.0 1.0]\n",
      "loglikelihood!(gcm, true, false) = -949.1827705115786\n",
      "gcm.∇β = [-0.582840426898384, -3.686754757369668]\n",
      "gcm.∇τ = [37690.66749687556]\n",
      "gcm.∇Σ = [0.7263046709981121 -0.22102101114869332; -0.22102101114869332 -1.86408558819219]\n"
     ]
    }
   ],
   "source": [
    "# initialize β and τ from least square solution\n",
    "init_β!(gcm)\n",
    "@show gcm.β\n",
    "@show gcm.τ[1]\n",
    "gcm.Σ .= diagm(ones(2))\n",
    "@show gcm.Σ\n",
    "@show loglikelihood!(gcm, true, false)\n",
    "@show gcm.∇β\n",
    "@show gcm.∇τ\n",
    "@show gcm.∇Σ;"
   ]
  },
  {
   "cell_type": "code",
   "execution_count": 18,
   "metadata": {},
   "outputs": [
    {
     "name": "stdout",
     "output_type": "stream",
     "text": [
      "loglikelihood!(gcm, true, false) = -949.1827705115786\n",
      "gcm.∇β = [-0.582840426898384, -3.686754757369668]\n",
      "gcm.∇τ = [37690.66749687556]\n",
      "gcm.∇Σ = [0.7263046709981121 -0.22102101114869332; -0.22102101114869332 -1.86408558819219]\n"
     ]
    }
   ],
   "source": [
    "@show loglikelihood!(gcm, true, false)\n",
    "@show gcm.∇β\n",
    "@show gcm.∇τ\n",
    "@show gcm.∇Σ;"
   ]
  },
  {
   "cell_type": "code",
   "execution_count": 19,
   "metadata": {},
   "outputs": [
    {
     "name": "stdout",
     "output_type": "stream",
     "text": [
      "This is Ipopt version 3.12.10, running with linear solver mumps.\n",
      "NOTE: Other linear solvers might be more efficient (see Ipopt documentation).\n",
      "\n",
      "Number of nonzeros in equality constraint Jacobian...:        0\n",
      "Number of nonzeros in inequality constraint Jacobian.:        0\n",
      "Number of nonzeros in Lagrangian Hessian.............:        0\n",
      "\n",
      "Total number of variables............................:        6\n",
      "                     variables with only lower bounds:        0\n",
      "                variables with lower and upper bounds:        0\n",
      "                     variables with only upper bounds:        0\n",
      "Total number of equality constraints.................:        0\n",
      "Total number of inequality constraints...............:        0\n",
      "        inequality constraints with only lower bounds:        0\n",
      "   inequality constraints with lower and upper bounds:        0\n",
      "        inequality constraints with only upper bounds:        0\n",
      "\n",
      "iter    objective    inf_pr   inf_du lg(mu)  ||d||  lg(rg) alpha_du alpha_pr  ls\n",
      "   0  9.4918277e+02 0.00e+00 1.67e+01   0.0 0.00e+00    -  0.00e+00 0.00e+00   0\n",
      "   1  9.4764659e+02 0.00e+00 1.00e+01 -11.0 1.67e+01    -  1.00e+00 1.56e-02f  7\n",
      "   2  9.4691354e+02 0.00e+00 5.19e+00 -11.0 7.63e-02    -  1.00e+00 1.00e+00f  1\n",
      "   3  9.4586892e+02 0.00e+00 4.46e+00 -11.0 1.48e-01    -  1.00e+00 1.00e+00f  1\n",
      "   4  9.4391650e+02 0.00e+00 5.02e+00 -11.0 5.82e-01    -  1.00e+00 1.00e+00f  1\n",
      "   5  9.4297450e+02 0.00e+00 4.99e+00 -11.0 1.50e+00    -  1.00e+00 1.00e+00f  1\n",
      "   6  9.4236823e+02 0.00e+00 7.70e+00 -11.0 1.54e+00    -  1.00e+00 2.50e-01f  3\n",
      "   7  9.4151792e+02 0.00e+00 1.65e+00 -11.0 1.93e-01    -  1.00e+00 1.00e+00f  1\n",
      "   8  9.4107394e+02 0.00e+00 1.78e+01 -11.0 1.14e+00    -  1.00e+00 5.00e-01f  2\n",
      "   9  9.4096392e+02 0.00e+00 4.12e+00 -11.0 3.18e-01    -  1.00e+00 1.00e+00f  1\n",
      "iter    objective    inf_pr   inf_du lg(mu)  ||d||  lg(rg) alpha_du alpha_pr  ls\n",
      "  10  9.4055926e+02 0.00e+00 3.03e+00 -11.0 1.95e-01    -  1.00e+00 1.00e+00f  1\n",
      "  11  9.4053548e+02 0.00e+00 5.72e+00 -11.0 1.11e+02    -  1.00e+00 3.91e-03f  9\n",
      "  12  9.3985702e+02 0.00e+00 1.39e+00 -11.0 6.20e-01    -  1.00e+00 1.00e+00f  1\n",
      "  13  9.3975168e+02 0.00e+00 4.30e+00 -11.0 3.79e-01    -  1.00e+00 5.00e-01f  2\n",
      "  14  9.3966516e+02 0.00e+00 6.35e+00 -11.0 2.04e+00    -  1.00e+00 5.00e-01f  2\n",
      "  15  9.3938199e+02 0.00e+00 4.21e+00 -11.0 1.29e+00    -  1.00e+00 5.00e-01f  2\n",
      "  16  9.3927814e+02 0.00e+00 3.08e+00 -11.0 1.88e-01    -  1.00e+00 1.00e+00f  1\n",
      "  17  9.3926263e+02 0.00e+00 2.38e+00 -11.0 1.11e-01    -  1.00e+00 1.00e+00f  1\n",
      "  18  9.3925881e+02 0.00e+00 5.72e-01 -11.0 1.82e-01    -  1.00e+00 5.00e-01f  2\n",
      "  19  9.3924549e+02 0.00e+00 1.13e+00 -11.0 6.54e-01    -  1.00e+00 2.50e-01f  3\n",
      "iter    objective    inf_pr   inf_du lg(mu)  ||d||  lg(rg) alpha_du alpha_pr  ls\n",
      "  20  9.3924508e+02 0.00e+00 9.04e-01 -11.0 3.60e+00    -  1.00e+00 1.25e-01f  4\n",
      "  21  9.3923971e+02 0.00e+00 1.99e+00 -11.0 2.62e-01    -  1.00e+00 2.50e-01f  3\n",
      "  22  9.3923908e+02 0.00e+00 4.43e+00 -11.0 8.71e-01    -  1.00e+00 1.25e-01f  4\n",
      "  23  9.3922375e+02 0.00e+00 1.39e+00 -11.0 2.22e+00    -  1.00e+00 1.25e-01f  4\n",
      "  24  9.3920351e+02 0.00e+00 7.10e-01 -11.0 2.07e-01    -  1.00e+00 1.00e+00f  1\n",
      "  25  9.3920340e+02 0.00e+00 4.83e-01 -11.0 1.20e+01    -  1.00e+00 3.91e-03f  9\n",
      "  26  9.3919420e+02 0.00e+00 1.15e+00 -11.0 3.58e+01    -  1.00e+00 3.12e-02f  6\n",
      "  27  9.3914464e+02 0.00e+00 1.28e+00 -11.0 2.43e+02    -  1.00e+00 1.56e-02f  7\n",
      "  28  9.3914453e+02 0.00e+00 1.05e+00 -11.0 1.96e+02    -  1.00e+00 6.10e-05f 15\n",
      "  29  9.3914384e+02 0.00e+00 2.15e+00 -11.0 1.36e+00    -  1.00e+00 2.50e-01f  3\n",
      "iter    objective    inf_pr   inf_du lg(mu)  ||d||  lg(rg) alpha_du alpha_pr  ls\n",
      "  30  9.3913984e+02 0.00e+00 7.04e-01 -11.0 1.98e+02    -  1.00e+00 7.81e-03f  8\n",
      "  31  9.3913978e+02 0.00e+00 8.15e-01 -11.0 3.51e+02    -  1.00e+00 2.44e-04f 13\n",
      "  32  9.3913867e+02 0.00e+00 9.68e-01 -11.0 6.06e+02    -  1.00e+00 9.77e-04f 11\n",
      "  33  9.3913854e+02 0.00e+00 4.62e-01 -11.0 2.83e+03    -  1.00e+00 1.22e-04f 14\n",
      "  34  9.3912934e+02 0.00e+00 1.49e-01 -11.0 6.81e-01    -  1.00e+00 1.00e+00f  1\n",
      "  35  9.3912929e+02 0.00e+00 2.43e-01 -11.0 2.44e+02    -  1.00e+00 3.91e-03f  9\n",
      "Warning: Cutting back alpha due to evaluation error\n",
      "  36  9.3912923e+02 0.00e+00 1.81e-01 -11.0 1.42e+04    -  1.00e+00 7.63e-06f 18\n",
      "  37  9.3912923e+02 0.00e+00 2.30e-01 -11.0 1.92e+01    -  1.00e+00 1.95e-03f 10\n",
      "  38  9.3912922e+02 0.00e+00 1.09e-01 -11.0 1.32e+03    -  1.00e+00 2.44e-04f 13\n",
      "  39  9.3912915e+02 0.00e+00 1.26e-01 -11.0 2.93e+02    -  1.00e+00 9.77e-04f 11\n",
      "iter    objective    inf_pr   inf_du lg(mu)  ||d||  lg(rg) alpha_du alpha_pr  ls\n",
      "  40  9.3912912e+02 0.00e+00 9.80e-02 -11.0 2.45e+00    -  1.00e+00 1.25e-01f  4\n",
      "  41  9.3912912e+02 0.00e+00 1.07e-01 -11.0 3.64e+01    -  1.00e+00 7.81e-03f  8\n",
      "  42  9.3912909e+02 0.00e+00 6.35e-02 -11.0 6.50e+03    -  1.00e+00 6.10e-05f 15\n",
      "  43  9.3912908e+02 0.00e+00 5.63e-02 -11.0 8.38e+03    -  1.00e+00 1.53e-05f 17\n",
      "  44  9.3912908e+02 0.00e+00 6.16e-02 -11.0 2.30e+03    -  1.00e+00 3.81e-06f 19\n",
      "  45  4.4515226e+03 0.00e+00 3.65e+03 -11.0 1.54e+02    -  1.00e+00 1.00e+00w  1\n",
      "  46  9.3912919e+02 0.00e+00 9.47e-02 -11.0 1.55e+02    -  1.00e+00 1.00e+00w  1\n",
      "  47  9.4770362e+02 0.00e+00 6.86e+00 -11.0 3.40e+01    -  1.00e+00 1.00e+00w  1\n",
      "  48  9.3912908e+02 0.00e+00 3.24e-02 -11.0 2.79e+02    -  1.00e+00 1.22e-04f 13\n",
      "  49  9.3912908e+02 0.00e+00 2.41e-02 -11.0 2.97e+02    -  1.00e+00 3.05e-05f 16\n",
      "iter    objective    inf_pr   inf_du lg(mu)  ||d||  lg(rg) alpha_du alpha_pr  ls\n",
      "  50  9.3912907e+02 0.00e+00 1.63e-02 -11.0 1.00e+04    -  1.00e+00 3.05e-05f 16\n",
      "Warning: Cutting back alpha due to evaluation error\n",
      "Warning: Cutting back alpha due to evaluation error\n",
      "Warning: Cutting back alpha due to evaluation error\n",
      "Warning: Cutting back alpha due to evaluation error\n",
      "Warning: Cutting back alpha due to evaluation error\n",
      "  51  9.3912907e+02 0.00e+00 1.66e-02 -11.0 8.74e+03    -  1.00e+00 9.54e-07f 21\n",
      "  52  9.3912907e+02 0.00e+00 1.50e-02 -11.0 1.76e+01    -  1.00e+00 2.50e-01f  3\n",
      "Warning: Cutting back alpha due to evaluation error\n",
      "Warning: Cutting back alpha due to evaluation error\n",
      "Warning: Cutting back alpha due to evaluation error\n",
      "Warning: Cutting back alpha due to evaluation error\n",
      "Warning: Cutting back alpha due to evaluation error\n",
      "  53  9.3912907e+02 0.00e+00 1.52e-02 -11.0 8.47e+05    -  1.00e+00 1.49e-08f 27\n",
      "  54  9.3912907e+02 0.00e+00 1.62e-03 -11.0 2.09e-01    -  1.00e+00 1.00e+00f  1\n",
      "  55  9.3912907e+02 0.00e+00 2.06e-03 -11.0 8.11e+01    -  1.00e+00 1.22e-04f 14\n",
      "  56  9.3912907e+02 0.00e+00 1.27e-03 -11.0 7.80e+01    -  1.00e+00 2.44e-04f 13\n",
      "  57  9.3912907e+02 0.00e+00 1.95e-03 -11.0 2.36e+05    -  1.00e+00 9.54e-07f 21\n",
      "  58  9.3912907e+02 0.00e+00 2.26e-03 -11.0 1.03e+07    -  1.00e+00 3.73e-09f 29\n",
      "Warning: Cutting back alpha due to evaluation error\n",
      "Warning: Cutting back alpha due to evaluation error\n",
      "Warning: Cutting back alpha due to evaluation error\n",
      "Warning: Cutting back alpha due to evaluation error\n",
      "  59  9.3912907e+02 0.00e+00 2.25e-03 -11.0 4.96e+03    -  1.00e+00 2.44e-04f 13\n",
      "iter    objective    inf_pr   inf_du lg(mu)  ||d||  lg(rg) alpha_du alpha_pr  ls\n",
      "  60  9.3912907e+02 0.00e+00 1.00e-03 -11.0 1.75e+04    -  1.00e+00 6.10e-05f 15\n",
      "Warning: Cutting back alpha due to evaluation error\n",
      "Warning: Cutting back alpha due to evaluation error\n",
      "Warning: Cutting back alpha due to evaluation error\n",
      "Warning: Cutting back alpha due to evaluation error\n",
      "  61  9.3912907e+02 0.00e+00 1.01e-03 -11.0 3.12e+03    -  1.00e+00 5.96e-08f 25\n",
      "  62  9.3912907e+02 0.00e+00 1.25e-04 -11.0 1.82e-01    -  1.00e+00 1.00e+00f  1\n",
      "Warning: Cutting back alpha due to evaluation error\n",
      "  63  9.3912907e+02 0.00e+00 5.46e-05 -11.0 4.12e+05    -  1.00e+00 7.45e-09f 28\n",
      "  64  9.3912907e+02 0.00e+00 3.23e-05 -11.0 1.82e+05    -  1.00e+00 2.98e-08f 26\n",
      "  65  9.3912907e+02 0.00e+00 2.05e-05 -11.0 7.14e+03    -  1.00e+00 1.49e-08f 27\n",
      "  66  9.3912907e+02 0.00e+00 6.73e-05 -11.0 1.44e+02    -  1.00e+00 1.25e-01f  4\n",
      "  67  9.3912907e+02 0.00e+00 7.18e-05 -11.0 3.45e+03    -  1.00e+00 7.63e-06f 18\n",
      "  68  9.3912907e+02 0.00e+00 7.75e-05 -11.0 9.51e+03    -  1.00e+00 6.10e-05f 15\n",
      "  69  9.3912907e+02 0.00e+00 3.91e-05 -11.0 5.26e+04    -  1.00e+00 4.77e-07f 22\n",
      "iter    objective    inf_pr   inf_du lg(mu)  ||d||  lg(rg) alpha_du alpha_pr  ls\n",
      "  70  9.3912907e+02 0.00e+00 5.20e-05 -11.0 4.08e-03  -4.0 1.00e+00 2.44e-04f 13\n",
      "  71  9.3912907e+02 0.00e+00 4.22e-05 -11.0 9.43e-01    -  1.00e+00 6.25e-02f  5\n",
      "  72  9.3912907e+02 0.00e+00 4.53e-05 -11.0 4.22e-02  -4.5 1.00e+00 2.44e-04f 13\n",
      "  73  9.3912907e+02 0.00e+00 5.99e-11 -11.0 2.76e-02    -  1.00e+00 1.00e+00f  1\n",
      "\n",
      "Number of Iterations....: 73\n",
      "\n",
      "                                   (scaled)                 (unscaled)\n",
      "Objective...............:   9.3912907059734130e+02    9.3912907059734130e+02\n",
      "Dual infeasibility......:   5.9908825358203149e-11    5.9908825358203149e-11\n",
      "Constraint violation....:   0.0000000000000000e+00    0.0000000000000000e+00\n",
      "Complementarity.........:   0.0000000000000000e+00    0.0000000000000000e+00\n",
      "Overall NLP error.......:   5.9908825358203149e-11    5.9908825358203149e-11\n",
      "\n",
      "\n",
      "Number of objective function evaluations             = 866\n",
      "Number of objective gradient evaluations             = 74\n",
      "Number of equality constraint evaluations            = 0\n",
      "Number of inequality constraint evaluations          = 0\n",
      "Number of equality constraint Jacobian evaluations   = 0\n",
      "Number of inequality constraint Jacobian evaluations = 0\n",
      "Number of Lagrangian Hessian evaluations             = 0\n",
      "Total CPU secs in IPOPT (w/o function evaluations)   =      0.133\n",
      "Total CPU secs in NLP function evaluations           =      0.010\n",
      "\n",
      "EXIT: Optimal Solution Found.\n",
      "  0.472599 seconds (831.38 k allocations: 42.597 MiB, 3.47% gc time)\n",
      "gcm.β = [247.04514072272872, 9.869278163300221]\n",
      "gcm.τ = [0.0004927738670996341]\n",
      "gcm.Σ = [0.1512427315965845 0.020744283673224735; 0.020744283673224735 0.002845262714925313]\n"
     ]
    }
   ],
   "source": [
    "# @time GLMCopula.fit!(gcm, NLopt.NLoptSolver(algorithm=:LD_SLSQP, maxeval=4000))\n",
    "@time GLMCopula.fit!(gcm, IpoptSolver(print_level=5))\n",
    "@show gcm.β\n",
    "@show gcm.τ\n",
    "@show gcm.Σ;"
   ]
  },
  {
   "cell_type": "code",
   "execution_count": 20,
   "metadata": {},
   "outputs": [
    {
     "name": "stdout",
     "output_type": "stream",
     "text": [
      "loglikelihood!(gcm, true, false) = -939.1290705973413\n",
      "gcm.∇β = [1.904129631746798e-12, 4.075129123037868e-12]\n",
      "gcm.∇τ = [-4.4795342546422035e-8]\n",
      "gcm.∇Σ = [-0.12152695483356046 0.886030527957967; 0.886030527957967 -6.459884537297988]\n"
     ]
    }
   ],
   "source": [
    "@show loglikelihood!(gcm, true, false)\n",
    "@show gcm.∇β\n",
    "@show gcm.∇τ\n",
    "@show gcm.∇Σ;"
   ]
  }
 ],
 "metadata": {
  "@webio": {
   "lastCommId": null,
   "lastKernelId": null
  },
  "kernelspec": {
   "display_name": "Julia 1.2.0",
   "language": "julia",
   "name": "julia-1.2"
  },
  "language_info": {
   "file_extension": ".jl",
   "mimetype": "application/julia",
   "name": "julia",
   "version": "1.2.0"
  },
  "toc": {
   "colors": {
    "hover_highlight": "#DAA520",
    "running_highlight": "#FF0000",
    "selected_highlight": "#FFD700"
   },
   "moveMenuLeft": true,
   "nav_menu": {
    "height": "66.52174377441406px",
    "width": "251.7391357421875px"
   },
   "navigate_menu": true,
   "number_sections": true,
   "sideBar": false,
   "skip_h1_title": true,
   "threshold": 4,
   "toc_cell": true,
   "toc_position": {
    "height": "254.95924377441406px",
    "left": "1px",
    "right": "20px",
    "top": "110.57881164550781px",
    "width": "125.50272369384766px"
   },
   "toc_section_display": "none",
   "toc_window_display": true,
   "widenNotebook": false
  },
  "toc-autonumbering": true,
  "toc-showcode": false,
  "toc-showmarkdowntxt": false,
  "toc-showtags": false
 },
 "nbformat": 4,
 "nbformat_minor": 2
}
